{
 "cells": [
  {
   "cell_type": "code",
   "execution_count": null,
   "id": "7b074552",
   "metadata": {},
   "outputs": [],
   "source": [
    "import numpy as np\n",
    "import matplotlib.pyplot as plt\n",
    "from skimage.feature import canny"
   ]
  },
  {
   "cell_type": "code",
   "execution_count": null,
   "id": "76180742",
   "metadata": {},
   "outputs": [],
   "source": [
    "import cv2\n",
    "\n",
    "# Read the original image\n",
    "img = cv2.imread('1.jpg')\n",
    "\n",
    "# Resize the original image to 300x300 pixels\n",
    "img_resized = cv2.resize(img, (300, 300))\n",
    "\n",
    "# Display the resized original image\n",
    "cv2.imshow('Resized Original', img_resized)\n",
    "cv2.waitKey(0)\n",
    "\n",
    "# Convert to grayscale\n",
    "img_gray = cv2.cvtColor(img_resized, cv2.COLOR_BGR2GRAY)\n",
    "\n",
    "# Blur the image for better edge detection\n",
    "img_blur = cv2.GaussianBlur(img_gray, (3, 3), 0)\n",
    "\n",
    "# Sobel Edge Detection\n",
    "sobelx = cv2.Sobel(src=img_blur, ddepth=cv2.CV_64F, dx=1, dy=0, ksize=5) # Sobel Edge Detection on the X axis\n",
    "sobely = cv2.Sobel(src=img_blur, ddepth=cv2.CV_64F, dx=0, dy=1, ksize=5) # Sobel Edge Detection on the Y axis\n",
    "sobelxy = cv2.Sobel(src=img_blur, ddepth=cv2.CV_64F, dx=1, dy=1, ksize=5) # Combined X and Y Sobel Edge Detection\n",
    "\n",
    "# Resize Sobel Edge Detection images to 300x300 pixels\n",
    "sobelx_resized = cv2.resize(sobelx, (300, 300))\n",
    "sobely_resized = cv2.resize(sobely, (300, 300))\n",
    "sobelxy_resized = cv2.resize(sobelxy, (300, 300))\n",
    "\n",
    "# Display Sobel Edge Detection Images\n",
    "cv2.imshow('Sobel X', sobelx_resized)\n",
    "cv2.waitKey(0)\n",
    "cv2.imshow('Sobel Y', sobely_resized)\n",
    "cv2.waitKey(0)\n",
    "cv2.imshow('Sobel X Y using Sobel() function', sobelxy_resized)\n",
    "cv2.waitKey(0)\n",
    "\n",
    "# Canny Edge Detection\n",
    "edges = cv2.Canny(image=img_blur, threshold1=150, threshold2=200)\n",
    "\n",
    "# Resize Canny Edge Detection image to 300x300 pixels\n",
    "edges_resized = cv2.resize(edges, (300, 300))\n",
    "\n",
    "# Display Canny Edge Detection Image\n",
    "cv2.imshow('Canny Edge Detection', edges_resized)\n",
    "cv2.waitKey(0)\n",
    "\n",
    "cv2.destroyAllWindows()"
   ]
  },
  {
   "cell_type": "code",
   "execution_count": null,
   "id": "ac52a1a8",
   "metadata": {},
   "outputs": [],
   "source": [
    "# Canny Edge Detection\n",
    "edges = cv2.Canny(image=img_blur, threshold1=150, threshold2=300)\n",
    "\n",
    "# Resize Canny Edge Detection image to 300x300 pixels\n",
    "edges_resized = cv2.resize(edges, (300, 300))\n",
    "\n",
    "# Display Canny Edge Detection Image\n",
    "cv2.imshow('Canny Edge Detection', edges_resized)\n",
    "cv2.waitKey(0)\n",
    "\n",
    "cv2.destroyAllWindows()\n",
    "cv2.imwrite('canny_edges.jpg', edges_resized)"
   ]
  }
 ],
 "metadata": {
  "kernelspec": {
   "display_name": "Python 3 (ipykernel)",
   "language": "python",
   "name": "python3"
  },
  "language_info": {
   "codemirror_mode": {
    "name": "ipython",
    "version": 3
   },
   "file_extension": ".py",
   "mimetype": "text/x-python",
   "name": "python",
   "nbconvert_exporter": "python",
   "pygments_lexer": "ipython3",
   "version": "3.11.4"
  }
 },
 "nbformat": 4,
 "nbformat_minor": 5
}
