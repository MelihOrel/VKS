{
 "cells": [
  {
   "cell_type": "code",
   "execution_count": 1,
   "id": "d6ce0d12",
   "metadata": {
    "scrolled": true
   },
   "outputs": [],
   "source": [
    "import cv2\n",
    "import os\n",
    "import numpy as np\n",
    "from tqdm import tqdm  # İlerleme çubuğu için gelişmiş döngü\n",
    "\n"
   ]
  },
  {
   "cell_type": "code",
   "execution_count": 9,
   "id": "9654a0c3",
   "metadata": {},
   "outputs": [
    {
     "name": "stderr",
     "output_type": "stream",
     "text": [
      "Processing images: 100%|███████████████████████████████████████████████████████████████| 12/12 [00:25<00:00,  2.11s/it]\n"
     ]
    }
   ],
   "source": [
    "# Veri setinin bulunduğu dizin\n",
    "data_directory = \"VKS/train/1\"\n",
    "# Veri setinin hedef dizini (artırılmış veriler buraya kaydedilecek)\n",
    "output_directory = \"VKSagument/Train/1/\"\n",
    "# Görüntü dosya uzantıları\n",
    "image_extensions = [\".jpg\", \".jpeg\", \".png\"]\n",
    "# Artırma faktörü (her görüntü için kaç yeni örnek oluşturulacak)\n",
    "augmentation_factor = 1\n",
    "for root, dirs, files in os.walk(data_directory):\n",
    "    for file in tqdm(files, desc=\"Processing images\"):\n",
    "        if any(file.lower().endswith(ext) for ext in image_extensions):\n",
    "            image_path = os.path.join(root, file)\n",
    "            image = cv2.imread(image_path)\n",
    "\n",
    "            augmented_images = []\n",
    "            for _ in range(augmentation_factor):\n",
    "                # Yatay çevirme\n",
    "                flipped_image = np.fliplr(image)\n",
    "                augmented_images.append(flipped_image)\n",
    "\n",
    "                # 0 ila 360 derece arasında rastgele bir döndürme açısı seçin\n",
    "                rotation_angle = np.random.uniform(0, 360)\n",
    "                \n",
    "                # Döndürme matrisi hesaplayın\n",
    "                rotation_matrix = cv2.getRotationMatrix2D((image.shape[1] / 2, image.shape[0] / 2), rotation_angle, 1)\n",
    "                \n",
    "                # Görüntüyü döndürün\n",
    "                rotated_image = cv2.warpAffine(image, rotation_matrix, (image.shape[1], image.shape[0]))\n",
    "                augmented_images.append(rotated_image)\n",
    "\n",
    "            filename_prefix = os.path.splitext(file)[0]\n",
    "            for i, augmented_image in enumerate(augmented_images):\n",
    "                output_path = os.path.join(output_directory, f\"{filename_prefix}_aug_{i}.jpg\")\n",
    "                cv2.imwrite(output_path, augmented_image)"
   ]
  },
  {
   "cell_type": "code",
   "execution_count": 3,
   "id": "104f687e",
   "metadata": {},
   "outputs": [
    {
     "name": "stderr",
     "output_type": "stream",
     "text": [
      "Processing images: 100%|███████████████████████████████████████████████████████████████| 21/21 [00:00<00:00, 88.76it/s]\n"
     ]
    }
   ],
   "source": [
    "for root, dirs, files in os.walk(data_directory):\n",
    "    for file in tqdm(files, desc=\"Processing images\"):\n",
    "        if any(file.lower().endswith(ext) for ext in image_extensions):\n",
    "            image_path = os.path.join(root, file)\n",
    "            image = cv2.imread(image_path)\n",
    "\n",
    "            augmented_images = []\n",
    "            for _ in range(augmentation_factor):\n",
    "                # Yatay çevirme\n",
    "                flipped_image = np.fliplr(image)\n",
    "                augmented_images.append(flipped_image)\n",
    "\n",
    "                # 0 ila 360 derece arasında rastgele bir döndürme açısı seçin\n",
    "                rotation_angle = np.random.uniform(0, 360)\n",
    "                \n",
    "                # Döndürme matrisi hesaplayın\n",
    "                rotation_matrix = cv2.getRotationMatrix2D((image.shape[1] / 2, image.shape[0] / 2), rotation_angle, 1)\n",
    "                \n",
    "                # Görüntüyü döndürün\n",
    "                rotated_image = cv2.warpAffine(image, rotation_matrix, (image.shape[1], image.shape[0]))\n",
    "                augmented_images.append(rotated_image)\n",
    "\n",
    "            filename_prefix = os.path.splitext(file)[0]\n",
    "            for i, augmented_image in enumerate(augmented_images):\n",
    "                output_path = os.path.join(output_directory, f\"{filename_prefix}_aug_{i}.jpg\")\n",
    "                cv2.imwrite(output_path, augmented_image)"
   ]
  },
  {
   "cell_type": "code",
   "execution_count": null,
   "id": "df4a98e1",
   "metadata": {},
   "outputs": [],
   "source": []
  }
 ],
 "metadata": {
  "kernelspec": {
   "display_name": "Python 3 (ipykernel)",
   "language": "python",
   "name": "python3"
  },
  "language_info": {
   "codemirror_mode": {
    "name": "ipython",
    "version": 3
   },
   "file_extension": ".py",
   "mimetype": "text/x-python",
   "name": "python",
   "nbconvert_exporter": "python",
   "pygments_lexer": "ipython3",
   "version": "3.11.4"
  }
 },
 "nbformat": 4,
 "nbformat_minor": 5
}
